{
 "cells": [
  {
   "cell_type": "code",
   "execution_count": 26,
   "metadata": {},
   "outputs": [
    {
     "name": "stdout",
     "output_type": "stream",
     "text": [
      "Requirement already satisfied: nltk in /usr/local/python/3.12.1/lib/python3.12/site-packages (3.9.1)\n",
      "Requirement already satisfied: click in /usr/local/python/3.12.1/lib/python3.12/site-packages (from nltk) (8.1.8)\n",
      "Requirement already satisfied: joblib in /home/codespace/.local/lib/python3.12/site-packages (from nltk) (1.4.2)\n",
      "Requirement already satisfied: regex>=2021.8.3 in /usr/local/python/3.12.1/lib/python3.12/site-packages (from nltk) (2024.11.6)\n",
      "Requirement already satisfied: tqdm in /usr/local/python/3.12.1/lib/python3.12/site-packages (from nltk) (4.67.1)\n",
      "\n",
      "\u001b[1m[\u001b[0m\u001b[34;49mnotice\u001b[0m\u001b[1;39;49m]\u001b[0m\u001b[39;49m A new release of pip is available: \u001b[0m\u001b[31;49m24.3.1\u001b[0m\u001b[39;49m -> \u001b[0m\u001b[32;49m25.0.1\u001b[0m\n",
      "\u001b[1m[\u001b[0m\u001b[34;49mnotice\u001b[0m\u001b[1;39;49m]\u001b[0m\u001b[39;49m To update, run: \u001b[0m\u001b[32;49mpython -m pip install --upgrade pip\u001b[0m\n",
      "Note: you may need to restart the kernel to use updated packages.\n"
     ]
    }
   ],
   "source": [
    "pip install nltk"
   ]
  },
  {
   "cell_type": "code",
   "execution_count": 27,
   "metadata": {},
   "outputs": [],
   "source": [
    "import nltk"
   ]
  },
  {
   "cell_type": "code",
   "execution_count": 42,
   "metadata": {},
   "outputs": [
    {
     "name": "stderr",
     "output_type": "stream",
     "text": [
      "[nltk_data] Downloading collection 'popular'\n",
      "[nltk_data]    | \n",
      "[nltk_data]    | Downloading package cmudict to\n",
      "[nltk_data]    |     /home/codespace/nltk_data...\n",
      "[nltk_data]    |   Package cmudict is already up-to-date!\n",
      "[nltk_data]    | Downloading package gazetteers to\n",
      "[nltk_data]    |     /home/codespace/nltk_data...\n",
      "[nltk_data]    |   Package gazetteers is already up-to-date!\n",
      "[nltk_data]    | Downloading package genesis to\n",
      "[nltk_data]    |     /home/codespace/nltk_data...\n",
      "[nltk_data]    |   Package genesis is already up-to-date!\n",
      "[nltk_data]    | Downloading package gutenberg to\n",
      "[nltk_data]    |     /home/codespace/nltk_data...\n",
      "[nltk_data]    |   Package gutenberg is already up-to-date!\n",
      "[nltk_data]    | Downloading package inaugural to\n",
      "[nltk_data]    |     /home/codespace/nltk_data...\n",
      "[nltk_data]    |   Package inaugural is already up-to-date!\n",
      "[nltk_data]    | Downloading package movie_reviews to\n",
      "[nltk_data]    |     /home/codespace/nltk_data...\n",
      "[nltk_data]    |   Package movie_reviews is already up-to-date!\n",
      "[nltk_data]    | Downloading package names to\n",
      "[nltk_data]    |     /home/codespace/nltk_data...\n",
      "[nltk_data]    |   Package names is already up-to-date!\n",
      "[nltk_data]    | Downloading package shakespeare to\n",
      "[nltk_data]    |     /home/codespace/nltk_data...\n",
      "[nltk_data]    |   Package shakespeare is already up-to-date!\n",
      "[nltk_data]    | Downloading package stopwords to\n",
      "[nltk_data]    |     /home/codespace/nltk_data...\n",
      "[nltk_data]    |   Package stopwords is already up-to-date!\n",
      "[nltk_data]    | Downloading package treebank to\n",
      "[nltk_data]    |     /home/codespace/nltk_data...\n",
      "[nltk_data]    |   Package treebank is already up-to-date!\n",
      "[nltk_data]    | Downloading package twitter_samples to\n",
      "[nltk_data]    |     /home/codespace/nltk_data...\n",
      "[nltk_data]    |   Package twitter_samples is already up-to-date!\n",
      "[nltk_data]    | Downloading package omw to\n",
      "[nltk_data]    |     /home/codespace/nltk_data...\n",
      "[nltk_data]    |   Package omw is already up-to-date!\n",
      "[nltk_data]    | Downloading package omw-1.4 to\n",
      "[nltk_data]    |     /home/codespace/nltk_data...\n",
      "[nltk_data]    |   Package omw-1.4 is already up-to-date!\n",
      "[nltk_data]    | Downloading package wordnet to\n",
      "[nltk_data]    |     /home/codespace/nltk_data...\n",
      "[nltk_data]    |   Package wordnet is already up-to-date!\n",
      "[nltk_data]    | Downloading package wordnet2021 to\n",
      "[nltk_data]    |     /home/codespace/nltk_data...\n",
      "[nltk_data]    |   Package wordnet2021 is already up-to-date!\n",
      "[nltk_data]    | Downloading package wordnet31 to\n",
      "[nltk_data]    |     /home/codespace/nltk_data...\n",
      "[nltk_data]    |   Package wordnet31 is already up-to-date!\n",
      "[nltk_data]    | Downloading package wordnet_ic to\n",
      "[nltk_data]    |     /home/codespace/nltk_data...\n",
      "[nltk_data]    |   Package wordnet_ic is already up-to-date!\n",
      "[nltk_data]    | Downloading package words to\n",
      "[nltk_data]    |     /home/codespace/nltk_data...\n",
      "[nltk_data]    |   Package words is already up-to-date!\n",
      "[nltk_data]    | Downloading package maxent_ne_chunker to\n",
      "[nltk_data]    |     /home/codespace/nltk_data...\n",
      "[nltk_data]    |   Package maxent_ne_chunker is already up-to-date!\n",
      "[nltk_data]    | Downloading package punkt to\n",
      "[nltk_data]    |     /home/codespace/nltk_data...\n",
      "[nltk_data]    |   Package punkt is already up-to-date!\n",
      "[nltk_data]    | Downloading package snowball_data to\n",
      "[nltk_data]    |     /home/codespace/nltk_data...\n",
      "[nltk_data]    |   Package snowball_data is already up-to-date!\n",
      "[nltk_data]    | Downloading package averaged_perceptron_tagger to\n",
      "[nltk_data]    |     /home/codespace/nltk_data...\n",
      "[nltk_data]    |   Package averaged_perceptron_tagger is already up-\n",
      "[nltk_data]    |       to-date!\n",
      "[nltk_data]    | \n",
      "[nltk_data]  Done downloading collection popular\n",
      "[nltk_data] Downloading package punkt_tab to\n",
      "[nltk_data]     /home/codespace/nltk_data...\n",
      "[nltk_data]   Package punkt_tab is already up-to-date!\n",
      "[nltk_data] Downloading package stopwords to\n",
      "[nltk_data]     /home/codespace/nltk_data...\n",
      "[nltk_data]   Package stopwords is already up-to-date!\n"
     ]
    },
    {
     "data": {
      "text/plain": [
       "True"
      ]
     },
     "execution_count": 42,
     "metadata": {},
     "output_type": "execute_result"
    }
   ],
   "source": [
    "nltk.download('popular')\n",
    "nltk.download('punkt_tab')\n",
    "nltk.download('stopwords')"
   ]
  },
  {
   "cell_type": "code",
   "execution_count": 33,
   "metadata": {},
   "outputs": [],
   "source": [
    "p1 = '''Physical AI: The Fusion of Artificial Intelligence and Robotics\n",
    "Artificial Intelligence (AI) has revolutionized numerous fields, from data analysis to natural language processing. However, a new frontier in AI is emerging—**Physical AI**, which combines AI capabilities with robotics and material sciences to create intelligent systems that interact with the physical world. Unlike traditional AI, which primarily exists in software and digital environments, Physical AI integrates cognitive abilities with tangible, adaptable, and autonomous machines.'''\n",
    "\n",
    "\n",
    "p2 = '''Physical AI is the result of advancements in multiple disciplines, including machine learning, robotics, bioengineering, and nanotechnology. Early robots were programmed to perform specific tasks but lacked adaptability. With the rise of machine learning, these machines have become more autonomous and capable of learning from their environments. Additionally, innovations in soft robotics and smart materials have enabled the development of robots that can move and function more like living organisms.'''\n",
    "\n",
    "\n",
    "p3 = '''Several critical components define Physical AI:\n",
    "1. **Machine Learning and AI Algorithms** – These enable robots to perceive, analyze, and make decisions in real time.\n",
    "2. **Robotics and Mechatronics** – Combining mechanical design with AI allows for enhanced movement and interaction.\n",
    "3. **Soft Robotics** – The development of flexible and adaptive materials allows robots to move and respond more naturally.\n",
    "4. **Sensory Systems** – AI-driven robots use cameras, LiDAR, and haptic sensors to perceive and navigate their surroundings.\n",
    "5. **Autonomous Systems** – Machines equipped with self-learning capabilities can operate with minimal human intervention.'''\n",
    "\n",
    "p4 = '''Physical AI has applications across diverse industries:\n",
    "- **Healthcare** – AI-powered prosthetics, robotic-assisted surgeries, and eldercare robots provide medical support.\n",
    "- **Manufacturing** – Smart factories utilize autonomous robots to streamline production.\n",
    "- **Space Explor### The Evolution of Physical AIation** – AI-driven robots assist in planetary exploration and satellite maintenance.\n",
    "- **Disaster Response** – Robots equipped with AI can navigate hazardous environments for search and rescue missions.\n",
    "- **Everyday Assistance** – AI-powered robotic assistants help with household chores and personal care.'''\n",
    "\n",
    "\n",
    "p5 = '''Despite its promise, Physical AI presents challenges:\n",
    "- **Technical Limitations** – AI models require vast amounts of data and energy, and robots face difficulties in unpredictable environments.\n",
    "- **Ethical Concerns** – Questions arise about job displacement, privacy, and the moral implications of AI autonomy.\n",
    "- **Safety Risks** – AI-powered robots must be designed with fail-safes to prevent accidents.'''\n",
    "\n",
    "p6 = '''The future of Physical AI lies in enhancing adaptability, intelligence, and human-machine collaboration. Advances in **neuromorphic computing**, **biohybrid robotics**, and **AI-driven material innovation** will pave the way for machines that think, feel, and move like living beings. As these systems evolve, they will reshape industries, improve human lives, and redefine the boundaries between the digital and physical worlds.'''\n",
    "\n",
    "\n",
    "p7 = '''Physical AI represents the next step in artificial intelligence, merging computational power with real-world interaction. By bridging the gap between AI and robotics, this field holds the potential to revolutionize medicine, industry, space exploration, and daily life. However, with innovation comes responsibility—ensuring that Physical AI is developed ethically and safely will be key to its success.'''\n",
    "\n"
   ]
  },
  {
   "cell_type": "code",
   "execution_count": null,
   "metadata": {},
   "outputs": [],
   "source": [
    "from nltk.tokenize import word_tokenize \n",
    "  "
   ]
  },
  {
   "cell_type": "markdown",
   "metadata": {},
   "source": [
    "### Word Tokenization"
   ]
  },
  {
   "cell_type": "code",
   "execution_count": 41,
   "metadata": {},
   "outputs": [
    {
     "name": "stdout",
     "output_type": "stream",
     "text": [
      "['Physical', 'AI', ':', 'The', 'Fusion', 'of', 'Artificial', 'Intelligence', 'and', 'Robotics', 'Artificial', 'Intelligence', '(', 'AI', ')', 'has', 'revolutionized', 'numerous', 'fields', ',', 'from', 'data', 'analysis', 'to', 'natural', 'language', 'processing', '.', 'However', ',', 'a', 'new', 'frontier', 'in', 'AI', 'is', 'emerging—', '*', '*', 'Physical', 'AI', '*', '*', ',', 'which', 'combines', 'AI', 'capabilities', 'with', 'robotics', 'and', 'material', 'sciences', 'to', 'create', 'intelligent', 'systems', 'that', 'interact', 'with', 'the', 'physical', 'world', '.', 'Unlike', 'traditional', 'AI', ',', 'which', 'primarily', 'exists', 'in', 'software', 'and', 'digital', 'environments', ',', 'Physical', 'AI', 'integrates', 'cognitive', 'abilities', 'with', 'tangible', ',', 'adaptable', ',', 'and', 'autonomous', 'machines', '.']\n",
      "['Physical', 'AI', 'is', 'the', 'result', 'of', 'advancements', 'in', 'multiple', 'disciplines', ',', 'including', 'machine', 'learning', ',', 'robotics', ',', 'bioengineering', ',', 'and', 'nanotechnology', '.', 'Early', 'robots', 'were', 'programmed', 'to', 'perform', 'specific', 'tasks', 'but', 'lacked', 'adaptability', '.', 'With', 'the', 'rise', 'of', 'machine', 'learning', ',', 'these', 'machines', 'have', 'become', 'more', 'autonomous', 'and', 'capable', 'of', 'learning', 'from', 'their', 'environments', '.', 'Additionally', ',', 'innovations', 'in', 'soft', 'robotics', 'and', 'smart', 'materials', 'have', 'enabled', 'the', 'development', 'of', 'robots', 'that', 'can', 'move', 'and', 'function', 'more', 'like', 'living', 'organisms', '.']\n",
      "['Several', 'critical', 'components', 'define', 'Physical', 'AI', ':', '1', '.', '*', '*', 'Machine', 'Learning', 'and', 'AI', 'Algorithms', '*', '*', '–', 'These', 'enable', 'robots', 'to', 'perceive', ',', 'analyze', ',', 'and', 'make', 'decisions', 'in', 'real', 'time', '.', '2', '.', '*', '*', 'Robotics', 'and', 'Mechatronics', '*', '*', '–', 'Combining', 'mechanical', 'design', 'with', 'AI', 'allows', 'for', 'enhanced', 'movement', 'and', 'interaction', '.', '3', '.', '*', '*', 'Soft', 'Robotics', '*', '*', '–', 'The', 'development', 'of', 'flexible', 'and', 'adaptive', 'materials', 'allows', 'robots', 'to', 'move', 'and', 'respond', 'more', 'naturally', '.', '4', '.', '*', '*', 'Sensory', 'Systems', '*', '*', '–', 'AI-driven', 'robots', 'use', 'cameras', ',', 'LiDAR', ',', 'and', 'haptic', 'sensors', 'to', 'perceive', 'and', 'navigate', 'their', 'surroundings', '.', '5', '.', '*', '*', 'Autonomous', 'Systems', '*', '*', '–', 'Machines', 'equipped', 'with', 'self-learning', 'capabilities', 'can', 'operate', 'with', 'minimal', 'human', 'intervention', '.']\n",
      "['Physical', 'AI', 'has', 'applications', 'across', 'diverse', 'industries', ':', '-', '*', '*', 'Healthcare', '*', '*', '–', 'AI-powered', 'prosthetics', ',', 'robotic-assisted', 'surgeries', ',', 'and', 'eldercare', 'robots', 'provide', 'medical', 'support', '.', '-', '*', '*', 'Manufacturing', '*', '*', '–', 'Smart', 'factories', 'utilize', 'autonomous', 'robots', 'to', 'streamline', 'production', '.', '-', '*', '*', 'Space', 'Explor', '#', '#', '#', 'The', 'Evolution', 'of', 'Physical', 'AIation', '*', '*', '–', 'AI-driven', 'robots', 'assist', 'in', 'planetary', 'exploration', 'and', 'satellite', 'maintenance', '.', '-', '*', '*', 'Disaster', 'Response', '*', '*', '–', 'Robots', 'equipped', 'with', 'AI', 'can', 'navigate', 'hazardous', 'environments', 'for', 'search', 'and', 'rescue', 'missions', '.', '-', '*', '*', 'Everyday', 'Assistance', '*', '*', '–', 'AI-powered', 'robotic', 'assistants', 'help', 'with', 'household', 'chores', 'and', 'personal', 'care', '.']\n",
      "['Despite', 'its', 'promise', ',', 'Physical', 'AI', 'presents', 'challenges', ':', '-', '*', '*', 'Technical', 'Limitations', '*', '*', '–', 'AI', 'models', 'require', 'vast', 'amounts', 'of', 'data', 'and', 'energy', ',', 'and', 'robots', 'face', 'difficulties', 'in', 'unpredictable', 'environments', '.', '-', '*', '*', 'Ethical', 'Concerns', '*', '*', '–', 'Questions', 'arise', 'about', 'job', 'displacement', ',', 'privacy', ',', 'and', 'the', 'moral', 'implications', 'of', 'AI', 'autonomy', '.', '-', '*', '*', 'Safety', 'Risks', '*', '*', '–', 'AI-powered', 'robots', 'must', 'be', 'designed', 'with', 'fail-safes', 'to', 'prevent', 'accidents', '.']\n",
      "['The', 'future', 'of', 'Physical', 'AI', 'lies', 'in', 'enhancing', 'adaptability', ',', 'intelligence', ',', 'and', 'human-machine', 'collaboration', '.', 'Advances', 'in', '*', '*', 'neuromorphic', 'computing', '*', '*', ',', '*', '*', 'biohybrid', 'robotics', '*', '*', ',', 'and', '*', '*', 'AI-driven', 'material', 'innovation', '*', '*', 'will', 'pave', 'the', 'way', 'for', 'machines', 'that', 'think', ',', 'feel', ',', 'and', 'move', 'like', 'living', 'beings', '.', 'As', 'these', 'systems', 'evolve', ',', 'they', 'will', 'reshape', 'industries', ',', 'improve', 'human', 'lives', ',', 'and', 'redefine', 'the', 'boundaries', 'between', 'the', 'digital', 'and', 'physical', 'worlds', '.']\n",
      "['Physical', 'AI', 'represents', 'the', 'next', 'step', 'in', 'artificial', 'intelligence', ',', 'merging', 'computational', 'power', 'with', 'real-world', 'interaction', '.', 'By', 'bridging', 'the', 'gap', 'between', 'AI', 'and', 'robotics', ',', 'this', 'field', 'holds', 'the', 'potential', 'to', 'revolutionize', 'medicine', ',', 'industry', ',', 'space', 'exploration', ',', 'and', 'daily', 'life', '.', 'However', ',', 'with', 'innovation', 'comes', 'responsibility—ensuring', 'that', 'Physical', 'AI', 'is', 'developed', 'ethically', 'and', 'safely', 'will', 'be', 'key', 'to', 'its', 'success', '.']\n"
     ]
    }
   ],
   "source": [
    "p1_tokenized = word_tokenize(p1)\n",
    "print(p1_tokenized)\n",
    "p2_tokenized = word_tokenize(p2)\n",
    "print(p2_tokenized)\n",
    "p3_tokenized = word_tokenize(p3)\n",
    "print(p3_tokenized)\n",
    "p4_tokenized = word_tokenize(p4)\n",
    "print(p4_tokenized)\n",
    "p5_tokenized = word_tokenize(p5)\n",
    "print(p5_tokenized)\n",
    "p6_tokenized = word_tokenize(p6)\n",
    "print(p6_tokenized)\n",
    "p7_tokenized = word_tokenize(p7)\n",
    "print(p7_tokenized)"
   ]
  },
  {
   "cell_type": "markdown",
   "metadata": {},
   "source": [
    "### Removal of stop words"
   ]
  },
  {
   "cell_type": "code",
   "execution_count": 48,
   "metadata": {},
   "outputs": [
    {
     "name": "stdout",
     "output_type": "stream",
     "text": [
      "['Physical', 'AI', ':', 'Fusion', 'Artificial', 'Intelligence', 'Robotics', 'Artificial', 'Intelligence', '(', 'AI', ')', 'revolutionized', 'numerous', 'fields', ',', 'data', 'analysis', 'natural', 'language', 'processing', '.', 'However', ',', 'new', 'frontier', 'AI', 'emerging—', '*', '*', 'Physical', 'AI', '*', '*', ',', 'combines', 'AI', 'capabilities', 'robotics', 'material', 'sciences', 'create', 'intelligent', 'systems', 'interact', 'physical', 'world', '.', 'Unlike', 'traditional', 'AI', ',', 'primarily', 'exists', 'software', 'digital', 'environments', ',', 'Physical', 'AI', 'integrates', 'cognitive', 'abilities', 'tangible', ',', 'adaptable', ',', 'autonomous', 'machines', '.']\n",
      "['Physical', 'AI', 'result', 'advancements', 'multiple', 'disciplines', ',', 'including', 'machine', 'learning', ',', 'robotics', ',', 'bioengineering', ',', 'nanotechnology', '.', 'Early', 'robots', 'programmed', 'perform', 'specific', 'tasks', 'lacked', 'adaptability', '.', 'rise', 'machine', 'learning', ',', 'machines', 'become', 'autonomous', 'capable', 'learning', 'environments', '.', 'Additionally', ',', 'innovations', 'soft', 'robotics', 'smart', 'materials', 'enabled', 'development', 'robots', 'move', 'function', 'like', 'living', 'organisms', '.']\n",
      "['Several', 'critical', 'components', 'define', 'Physical', 'AI', ':', '1', '.', '*', '*', 'Machine', 'Learning', 'AI', 'Algorithms', '*', '*', '–', 'enable', 'robots', 'perceive', ',', 'analyze', ',', 'make', 'decisions', 'real', 'time', '.', '2', '.', '*', '*', 'Robotics', 'Mechatronics', '*', '*', '–', 'Combining', 'mechanical', 'design', 'AI', 'allows', 'enhanced', 'movement', 'interaction', '.', '3', '.', '*', '*', 'Soft', 'Robotics', '*', '*', '–', 'development', 'flexible', 'adaptive', 'materials', 'allows', 'robots', 'move', 'respond', 'naturally', '.', '4', '.', '*', '*', 'Sensory', 'Systems', '*', '*', '–', 'AI-driven', 'robots', 'use', 'cameras', ',', 'LiDAR', ',', 'haptic', 'sensors', 'perceive', 'navigate', 'surroundings', '.', '5', '.', '*', '*', 'Autonomous', 'Systems', '*', '*', '–', 'Machines', 'equipped', 'self-learning', 'capabilities', 'operate', 'minimal', 'human', 'intervention', '.']\n",
      "['Physical', 'AI', 'applications', 'across', 'diverse', 'industries', ':', '-', '*', '*', 'Healthcare', '*', '*', '–', 'AI-powered', 'prosthetics', ',', 'robotic-assisted', 'surgeries', ',', 'eldercare', 'robots', 'provide', 'medical', 'support', '.', '-', '*', '*', 'Manufacturing', '*', '*', '–', 'Smart', 'factories', 'utilize', 'autonomous', 'robots', 'streamline', 'production', '.', '-', '*', '*', 'Space', 'Explor', '#', '#', '#', 'Evolution', 'Physical', 'AIation', '*', '*', '–', 'AI-driven', 'robots', 'assist', 'planetary', 'exploration', 'satellite', 'maintenance', '.', '-', '*', '*', 'Disaster', 'Response', '*', '*', '–', 'Robots', 'equipped', 'AI', 'navigate', 'hazardous', 'environments', 'search', 'rescue', 'missions', '.', '-', '*', '*', 'Everyday', 'Assistance', '*', '*', '–', 'AI-powered', 'robotic', 'assistants', 'help', 'household', 'chores', 'personal', 'care', '.']\n",
      "['Despite', 'promise', ',', 'Physical', 'AI', 'presents', 'challenges', ':', '-', '*', '*', 'Technical', 'Limitations', '*', '*', '–', 'AI', 'models', 'require', 'vast', 'amounts', 'data', 'energy', ',', 'robots', 'face', 'difficulties', 'unpredictable', 'environments', '.', '-', '*', '*', 'Ethical', 'Concerns', '*', '*', '–', 'Questions', 'arise', 'job', 'displacement', ',', 'privacy', ',', 'moral', 'implications', 'AI', 'autonomy', '.', '-', '*', '*', 'Safety', 'Risks', '*', '*', '–', 'AI-powered', 'robots', 'must', 'designed', 'fail-safes', 'prevent', 'accidents', '.']\n",
      "['future', 'Physical', 'AI', 'lies', 'enhancing', 'adaptability', ',', 'intelligence', ',', 'human-machine', 'collaboration', '.', 'Advances', '*', '*', 'neuromorphic', 'computing', '*', '*', ',', '*', '*', 'biohybrid', 'robotics', '*', '*', ',', '*', '*', 'AI-driven', 'material', 'innovation', '*', '*', 'pave', 'way', 'machines', 'think', ',', 'feel', ',', 'move', 'like', 'living', 'beings', '.', 'systems', 'evolve', ',', 'reshape', 'industries', ',', 'improve', 'human', 'lives', ',', 'redefine', 'boundaries', 'digital', 'physical', 'worlds', '.']\n"
     ]
    }
   ],
   "source": [
    "from nltk.corpus import stopwords\n",
    "stop_words = set(stopwords.words('english'))\n",
    "filtered_p1 = [i for i in p1_tokenized if not i.lower() in stop_words]\n",
    "print(filtered_p1)\n",
    "filtered_p2 = [i for i in p2_tokenized if not i.lower() in stop_words]\n",
    "print(filtered_p2)\n",
    "filtered_p3 = [i for i in p3_tokenized if not i.lower() in stop_words]\n",
    "print(filtered_p3)\n",
    "filtered_p4 = [i for i in p4_tokenized if not i.lower() in stop_words]\n",
    "print(filtered_p4)\n",
    "filtered_p5 = [i for i in p5_tokenized if not i.lower() in stop_words]\n",
    "print(filtered_p5)\n",
    "filtered_p6 = [i for i in p6_tokenized if not i.lower() in stop_words]\n",
    "print(filtered_p6)"
   ]
  }
 ],
 "metadata": {
  "kernelspec": {
   "display_name": "Python 3",
   "language": "python",
   "name": "python3"
  },
  "language_info": {
   "codemirror_mode": {
    "name": "ipython",
    "version": 3
   },
   "file_extension": ".py",
   "mimetype": "text/x-python",
   "name": "python",
   "nbconvert_exporter": "python",
   "pygments_lexer": "ipython3",
   "version": "3.12.1"
  }
 },
 "nbformat": 4,
 "nbformat_minor": 2
}
